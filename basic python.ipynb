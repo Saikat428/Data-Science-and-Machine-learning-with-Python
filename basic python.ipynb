{
 "cells": [
  {
   "cell_type": "markdown",
   "id": "17cf3140",
   "metadata": {},
   "source": [
    "# Saikat Sarkar_ds_Assignment_2"
   ]
  },
  {
   "cell_type": "code",
   "execution_count": null,
   "id": "cd5e6ecb",
   "metadata": {},
   "outputs": [],
   "source": []
  },
  {
   "cell_type": "markdown",
   "id": "698e60a2",
   "metadata": {},
   "source": [
    "# Varriable"
   ]
  },
  {
   "cell_type": "code",
   "execution_count": null,
   "id": "e96f10b8",
   "metadata": {},
   "outputs": [],
   "source": [
    "a=30\n",
    "b=30\n",
    "sum=a+b\n",
    "print(sum)"
   ]
  },
  {
   "cell_type": "code",
   "execution_count": 2,
   "id": "3bbb0191",
   "metadata": {},
   "outputs": [
    {
     "name": "stdout",
     "output_type": "stream",
     "text": [
      "0\n"
     ]
    }
   ],
   "source": [
    "sub=a-b\n",
    "print(sub)"
   ]
  },
  {
   "cell_type": "code",
   "execution_count": 3,
   "id": "5b6c037a",
   "metadata": {},
   "outputs": [
    {
     "name": "stdout",
     "output_type": "stream",
     "text": [
      "900\n"
     ]
    }
   ],
   "source": [
    "mul=a*b\n",
    "print(mul)"
   ]
  },
  {
   "cell_type": "code",
   "execution_count": 4,
   "id": "a680d62a",
   "metadata": {},
   "outputs": [
    {
     "name": "stdout",
     "output_type": "stream",
     "text": [
      "1.0\n"
     ]
    }
   ],
   "source": [
    "div=a/b\n",
    "print(div)"
   ]
  },
  {
   "cell_type": "code",
   "execution_count": 5,
   "id": "8b9cc6c0",
   "metadata": {},
   "outputs": [
    {
     "name": "stdout",
     "output_type": "stream",
     "text": [
      " Enter your name: ss\n",
      "2\n",
      "<class 'str'>\n",
      "ss\n"
     ]
    }
   ],
   "source": [
    "name=input(\" Enter your name: \")\n",
    "print(len(name))\n",
    "print(type(name))\n",
    "print(name)"
   ]
  },
  {
   "cell_type": "markdown",
   "id": "d2b0eb4d",
   "metadata": {},
   "source": [
    "# if-else statement"
   ]
  },
  {
   "cell_type": "code",
   "execution_count": 6,
   "id": "790b69de",
   "metadata": {},
   "outputs": [
    {
     "name": "stdout",
     "output_type": "stream",
     "text": [
      "Enter a name: Saikat Sarkar\n",
      "Oh! it's me\n"
     ]
    }
   ],
   "source": [
    "name=input(\"Enter a name: \")\n",
    "if name== \"Saikat Sarkar\":\n",
    "    print(\"Oh! it's me\")\n",
    "elif name==\"Rashedul Alam Shakil\":\n",
    "    print(\"Assalamuakum, Bhai\")\n",
    "else:\n",
    "    print(\"Sorry, you enter a invaild name\")"
   ]
  },
  {
   "cell_type": "code",
   "execution_count": 8,
   "id": "601ef8f0",
   "metadata": {},
   "outputs": [
    {
     "name": "stdout",
     "output_type": "stream",
     "text": [
      "Enter your number: 33\n",
      "Congratulations! You have passed the exam, Your Grade is : D\n"
     ]
    }
   ],
   "source": [
    "num=int(input(\"Enter your number: \"))\n",
    "if num>= 33 and num<=40:\n",
    "    print(\"Congratulations! You have passed the exam, Your Grade is : D\")\n",
    "elif num>= 41 and num<=40:\n",
    "    print(\"Congratulations! You have passed the exam, Your Grade is : C\")\n",
    "elif num>= 51 and num<=60:\n",
    "    print(\"Congratulations! You have passed the exam, Your Grade is : B\")\n",
    "elif num>= 61 and num<=70:\n",
    "    print(\"Congratulations! You have passed the exam, Your Grade is : A-\")\n",
    "elif num>= 71 and num<=80:\n",
    "    print(\"Congratulations! You have passed the exam, Your Grade is : A\")\n",
    "elif num>= 81 and num<=100:\n",
    "    print(\"Congratulations! You have passed the exam, Your Grade is : A+\")\n",
    "else:\n",
    "    print(\"Sorry! Fail, Better luck next time\")\n",
    "    "
   ]
  },
  {
   "cell_type": "markdown",
   "id": "7c3b1a12",
   "metadata": {},
   "source": [
    "# loop"
   ]
  },
  {
   "cell_type": "code",
   "execution_count": 9,
   "id": "0ddc969c",
   "metadata": {},
   "outputs": [
    {
     "name": "stdout",
     "output_type": "stream",
     "text": [
      "1\n",
      "2\n",
      "3\n",
      "4\n",
      "5\n"
     ]
    }
   ],
   "source": [
    "i = 1\n",
    "while i < 6:\n",
    "    print(i)\n",
    "    i += 1"
   ]
  },
  {
   "cell_type": "code",
   "execution_count": 10,
   "id": "d3772785",
   "metadata": {},
   "outputs": [
    {
     "name": "stdout",
     "output_type": "stream",
     "text": [
      "1\n",
      "2\n",
      "3\n",
      "4\n",
      "5\n",
      "i is no longer less than 6\n"
     ]
    }
   ],
   "source": [
    "i = 1\n",
    "while i < 6:\n",
    "    print(i)\n",
    "    i += 1\n",
    "else:\n",
    "    print(\"i is no longer less than 6\")"
   ]
  },
  {
   "cell_type": "code",
   "execution_count": 12,
   "id": "bab839fa",
   "metadata": {},
   "outputs": [
    {
     "name": "stdout",
     "output_type": "stream",
     "text": [
      "apple\n"
     ]
    }
   ],
   "source": [
    "fruits = [\"apple\", \"banana\", \"cherry\"]\n",
    "for x in fruits:\n",
    "    if x == \"banana\":\n",
    "         break\n",
    "    print(x)"
   ]
  },
  {
   "cell_type": "code",
   "execution_count": null,
   "id": "269b30b7",
   "metadata": {},
   "outputs": [],
   "source": [
    "num = [1,2,3,4,5,6,10]\n",
    "for i in num:\n",
    "    if i != 10:\n",
    "        print(\"invaild\")      \n",
    "    else:\n",
    "        print(\"found\")"
   ]
  }
 ],
 "metadata": {
  "kernelspec": {
   "display_name": "Python 3 (ipykernel)",
   "language": "python",
   "name": "python3"
  },
  "language_info": {
   "codemirror_mode": {
    "name": "ipython",
    "version": 3
   },
   "file_extension": ".py",
   "mimetype": "text/x-python",
   "name": "python",
   "nbconvert_exporter": "python",
   "pygments_lexer": "ipython3",
   "version": "3.9.12"
  }
 },
 "nbformat": 4,
 "nbformat_minor": 5
}
